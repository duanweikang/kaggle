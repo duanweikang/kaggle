{
 "cells": [
  {
   "cell_type": "code",
   "execution_count": 1,
   "metadata": {
    "collapsed": false
   },
   "outputs": [],
   "source": [
    "### shelter animal outcome prediction ###\n",
    "# load package\n",
    "import pandas as pd\n",
    "import numpy as np\n",
    "import matplotlib.pyplot as plt\n",
    "import seaborn as sns\n",
    "import matplotlib.pylab\n",
    "%matplotlib inline "
   ]
  },
  {
   "cell_type": "code",
   "execution_count": 2,
   "metadata": {
    "collapsed": true
   },
   "outputs": [],
   "source": [
    "shelter = pd.read_csv('train.csv')"
   ]
  },
  {
   "cell_type": "code",
   "execution_count": 3,
   "metadata": {
    "collapsed": false
   },
   "outputs": [
    {
     "data": {
      "text/html": [
       "<div>\n",
       "<table border=\"1\" class=\"dataframe\">\n",
       "  <thead>\n",
       "    <tr style=\"text-align: right;\">\n",
       "      <th></th>\n",
       "      <th>AnimalID</th>\n",
       "      <th>Name</th>\n",
       "      <th>DateTime</th>\n",
       "      <th>OutcomeType</th>\n",
       "      <th>OutcomeSubtype</th>\n",
       "      <th>AnimalType</th>\n",
       "      <th>SexuponOutcome</th>\n",
       "      <th>AgeuponOutcome</th>\n",
       "      <th>Breed</th>\n",
       "      <th>Color</th>\n",
       "    </tr>\n",
       "  </thead>\n",
       "  <tbody>\n",
       "    <tr>\n",
       "      <th>0</th>\n",
       "      <td>A671945</td>\n",
       "      <td>Hambone</td>\n",
       "      <td>2014-02-12 18:22:00</td>\n",
       "      <td>Return_to_owner</td>\n",
       "      <td>NaN</td>\n",
       "      <td>Dog</td>\n",
       "      <td>Neutered Male</td>\n",
       "      <td>1 year</td>\n",
       "      <td>Shetland Sheepdog Mix</td>\n",
       "      <td>Brown/White</td>\n",
       "    </tr>\n",
       "    <tr>\n",
       "      <th>1</th>\n",
       "      <td>A656520</td>\n",
       "      <td>Emily</td>\n",
       "      <td>2013-10-13 12:44:00</td>\n",
       "      <td>Euthanasia</td>\n",
       "      <td>Suffering</td>\n",
       "      <td>Cat</td>\n",
       "      <td>Spayed Female</td>\n",
       "      <td>1 year</td>\n",
       "      <td>Domestic Shorthair Mix</td>\n",
       "      <td>Cream Tabby</td>\n",
       "    </tr>\n",
       "    <tr>\n",
       "      <th>2</th>\n",
       "      <td>A686464</td>\n",
       "      <td>Pearce</td>\n",
       "      <td>2015-01-31 12:28:00</td>\n",
       "      <td>Adoption</td>\n",
       "      <td>Foster</td>\n",
       "      <td>Dog</td>\n",
       "      <td>Neutered Male</td>\n",
       "      <td>2 years</td>\n",
       "      <td>Pit Bull Mix</td>\n",
       "      <td>Blue/White</td>\n",
       "    </tr>\n",
       "    <tr>\n",
       "      <th>3</th>\n",
       "      <td>A683430</td>\n",
       "      <td>NaN</td>\n",
       "      <td>2014-07-11 19:09:00</td>\n",
       "      <td>Transfer</td>\n",
       "      <td>Partner</td>\n",
       "      <td>Cat</td>\n",
       "      <td>Intact Male</td>\n",
       "      <td>3 weeks</td>\n",
       "      <td>Domestic Shorthair Mix</td>\n",
       "      <td>Blue Cream</td>\n",
       "    </tr>\n",
       "    <tr>\n",
       "      <th>4</th>\n",
       "      <td>A667013</td>\n",
       "      <td>NaN</td>\n",
       "      <td>2013-11-15 12:52:00</td>\n",
       "      <td>Transfer</td>\n",
       "      <td>Partner</td>\n",
       "      <td>Dog</td>\n",
       "      <td>Neutered Male</td>\n",
       "      <td>2 years</td>\n",
       "      <td>Lhasa Apso/Miniature Poodle</td>\n",
       "      <td>Tan</td>\n",
       "    </tr>\n",
       "  </tbody>\n",
       "</table>\n",
       "</div>"
      ],
      "text/plain": [
       "  AnimalID     Name             DateTime      OutcomeType OutcomeSubtype  \\\n",
       "0  A671945  Hambone  2014-02-12 18:22:00  Return_to_owner            NaN   \n",
       "1  A656520    Emily  2013-10-13 12:44:00       Euthanasia      Suffering   \n",
       "2  A686464   Pearce  2015-01-31 12:28:00         Adoption         Foster   \n",
       "3  A683430      NaN  2014-07-11 19:09:00         Transfer        Partner   \n",
       "4  A667013      NaN  2013-11-15 12:52:00         Transfer        Partner   \n",
       "\n",
       "  AnimalType SexuponOutcome AgeuponOutcome                        Breed  \\\n",
       "0        Dog  Neutered Male         1 year        Shetland Sheepdog Mix   \n",
       "1        Cat  Spayed Female         1 year       Domestic Shorthair Mix   \n",
       "2        Dog  Neutered Male        2 years                 Pit Bull Mix   \n",
       "3        Cat    Intact Male        3 weeks       Domestic Shorthair Mix   \n",
       "4        Dog  Neutered Male        2 years  Lhasa Apso/Miniature Poodle   \n",
       "\n",
       "         Color  \n",
       "0  Brown/White  \n",
       "1  Cream Tabby  \n",
       "2   Blue/White  \n",
       "3   Blue Cream  \n",
       "4          Tan  "
      ]
     },
     "execution_count": 3,
     "metadata": {},
     "output_type": "execute_result"
    }
   ],
   "source": [
    "shelter.head()"
   ]
  },
  {
   "cell_type": "code",
   "execution_count": 4,
   "metadata": {
    "collapsed": false
   },
   "outputs": [],
   "source": [
    "label = shelter.iloc[:,3].astype('category')"
   ]
  },
  {
   "cell_type": "markdown",
   "metadata": {
    "collapsed": false
   },
   "source": [
    "## feature extraction"
   ]
  },
  {
   "cell_type": "code",
   "execution_count": 5,
   "metadata": {
    "collapsed": false
   },
   "outputs": [],
   "source": [
    "# name\n",
    "name = shelter.iloc[:,1]\n",
    "Nameless = []\n",
    "for item in name:\n",
    "    if str(item) == 'nan':\n",
    "        Nameless.append(1)\n",
    "    else:\n",
    "        Nameless.append(0)\n",
    "Nameless = pd.Series(Nameless)"
   ]
  },
  {
   "cell_type": "code",
   "execution_count": 6,
   "metadata": {
    "collapsed": false
   },
   "outputs": [],
   "source": [
    "# time\n",
    "def turn_str(i):\n",
    "    i = str(i)\n",
    "    return i\n",
    "DateTime = shelter.iloc[:,2].apply(turn_str)\n",
    "\n",
    "def time(i):\n",
    "    if int(i[11:13]) < 7:\n",
    "        return 'early morning'\n",
    "    elif int(i[11:13]) < 12:\n",
    "        return ' morning'\n",
    "    elif int(i[11:13]) < 18:\n",
    "        return 'afternoon'\n",
    "    else:\n",
    "        return 'evening'\n",
    "Time = DateTime.apply(time)"
   ]
  },
  {
   "cell_type": "code",
   "execution_count": 7,
   "metadata": {
    "collapsed": false
   },
   "outputs": [],
   "source": [
    "# animal type\n",
    "Animal_type = shelter.iloc[:,5]"
   ]
  },
  {
   "cell_type": "code",
   "execution_count": 8,
   "metadata": {
    "collapsed": false
   },
   "outputs": [],
   "source": [
    "# gender and surgery\n",
    "foo = shelter.iloc[:,6].str.split(\" \")\n",
    "Gender = []\n",
    "Intact = []\n",
    "for item in foo:\n",
    "    if str(item) == 'nan':\n",
    "        Gender.append('Unknown')\n",
    "        Intact.append('Unknown')\n",
    "    elif item[0] == 'Unknown':\n",
    "        Gender.append('Unknown')\n",
    "        Intact.append('Unknown')\n",
    "    else:\n",
    "        Gender.append(item[1])\n",
    "        if item[0] == 'Intact':\n",
    "            Intact.append(1)\n",
    "        else:\n",
    "            Intact.append(0)\n",
    "Gender = pd.Series(Gender)\n",
    "Intact = pd.Series(Intact)"
   ]
  },
  {
   "cell_type": "code",
   "execution_count": 9,
   "metadata": {
    "collapsed": false
   },
   "outputs": [],
   "source": [
    "# age\n",
    "AgeuponOutcome = shelter.iloc[:,7].str.split(\" \")\n",
    "multiplier = []\n",
    "quant = []\n",
    "for item in AgeuponOutcome:\n",
    "    if str(item) == 'nan':\n",
    "        multiplier.append(0)\n",
    "        quant.append(0)\n",
    "    else:\n",
    "        quant.append(item[0])\n",
    "        if 'year' in item[1]:\n",
    "            multiplier.append(365)\n",
    "        elif 'month' in item[1]:\n",
    "            multiplier.append(30)\n",
    "        else:\n",
    "            multiplier.append(1)\n",
    "multiplier = np.array(multiplier).astype(int)\n",
    "quant = np.array(quant).astype(int)\n",
    "Age = pd.Series(multiplier*quant)\n",
    "Age_categorical = []\n",
    "for item in Age:\n",
    "    if item <= 60:\n",
    "        Age_categorical.append('baby')\n",
    "    elif item <= 365:\n",
    "        Age_categorical.append('young')\n",
    "    elif item <= 1095:\n",
    "        Age_categorical.append('adult')\n",
    "    else:\n",
    "        Age_categorical.append('old')\n",
    "Age_categorical = pd.Series(Age_categorical)"
   ]
  },
  {
   "cell_type": "code",
   "execution_count": 10,
   "metadata": {
    "collapsed": false
   },
   "outputs": [],
   "source": [
    "# breed\n",
    "foo_split = shelter.iloc[:,8].str.split(\"/\")\n",
    "Mix = []\n",
    "Breed = []\n",
    "for item in foo_split:\n",
    "    if str(item) == 'nan':\n",
    "        Mix.append('Unknown')\n",
    "        Breed.append('Unknown')\n",
    "    elif len(item) == 2:\n",
    "        if item[1][-3:] == 'Mix':\n",
    "            Mix.append(1)\n",
    "            Breed.append(item[0][:-3])\n",
    "        else:\n",
    "            Mix.append(0)\n",
    "            Breed.append(item[0][:-3])\n",
    "    else:\n",
    "        if item[0][-3:] == 'Mix':\n",
    "            Mix.append(1)\n",
    "            Breed.append(item[0][:-3])\n",
    "        else:\n",
    "            Mix.append(0)\n",
    "            Breed.append(item[0][:-3])\n",
    "Mix = pd.Series(Mix)\n",
    "Breed = pd.Series(Breed)"
   ]
  },
  {
   "cell_type": "code",
   "execution_count": 11,
   "metadata": {
    "collapsed": false
   },
   "outputs": [],
   "source": [
    "# color\n",
    "foo = shelter.iloc[:,9].str.split(\"/\")\n",
    "Bicolor = []\n",
    "Tabby = []\n",
    "Color = []\n",
    "for item in foo:\n",
    "    if len(item) == 1:\n",
    "        Bicolor.append(0)\n",
    "        if 'Tabby' in item[0]:\n",
    "            Tabby.append(1)\n",
    "        else:\n",
    "            Tabby.append(0)\n",
    "        Color.append(item[0])\n",
    "    else:\n",
    "        Bicolor.append(1)\n",
    "        if 'Tabby' in item[0] or 'Tabby' in item[1]:\n",
    "            Tabby.append(1)\n",
    "        else:\n",
    "            Tabby.append(0)\n",
    "        Color.append(item[0])\n",
    "Bicolor = pd.Series(Bicolor)\n",
    "Tabby = pd.Series(Tabby)\n",
    "# split color\n",
    "foo_color = pd.Series(Color).str.split(\" \")\n",
    "Color = []\n",
    "for item in foo_color:\n",
    "    if len(item) == 1:\n",
    "        Color.append(item[0])\n",
    "    else:\n",
    "        Color.append(item[0])\n",
    "Color = pd.Series(Color)"
   ]
  },
  {
   "cell_type": "code",
   "execution_count": 12,
   "metadata": {
    "collapsed": false
   },
   "outputs": [
    {
     "data": {
      "text/html": [
       "<div>\n",
       "<table border=\"1\" class=\"dataframe\">\n",
       "  <thead>\n",
       "    <tr style=\"text-align: right;\">\n",
       "      <th></th>\n",
       "      <th>Nameless</th>\n",
       "      <th>Time</th>\n",
       "      <th>Animal_type</th>\n",
       "      <th>Gender</th>\n",
       "      <th>Intact</th>\n",
       "      <th>Age</th>\n",
       "      <th>Age_categorical</th>\n",
       "      <th>Mix</th>\n",
       "      <th>Breed</th>\n",
       "      <th>Bicolor</th>\n",
       "      <th>Tabby</th>\n",
       "      <th>Color</th>\n",
       "    </tr>\n",
       "  </thead>\n",
       "  <tbody>\n",
       "    <tr>\n",
       "      <th>0</th>\n",
       "      <td>0</td>\n",
       "      <td>evening</td>\n",
       "      <td>Dog</td>\n",
       "      <td>Male</td>\n",
       "      <td>0</td>\n",
       "      <td>365</td>\n",
       "      <td>young</td>\n",
       "      <td>1</td>\n",
       "      <td>Shetland Sheepdog</td>\n",
       "      <td>1</td>\n",
       "      <td>0</td>\n",
       "      <td>Brown</td>\n",
       "    </tr>\n",
       "    <tr>\n",
       "      <th>1</th>\n",
       "      <td>0</td>\n",
       "      <td>afternoon</td>\n",
       "      <td>Cat</td>\n",
       "      <td>Female</td>\n",
       "      <td>0</td>\n",
       "      <td>365</td>\n",
       "      <td>young</td>\n",
       "      <td>1</td>\n",
       "      <td>Domestic Shorthair</td>\n",
       "      <td>0</td>\n",
       "      <td>1</td>\n",
       "      <td>Cream</td>\n",
       "    </tr>\n",
       "    <tr>\n",
       "      <th>2</th>\n",
       "      <td>0</td>\n",
       "      <td>afternoon</td>\n",
       "      <td>Dog</td>\n",
       "      <td>Male</td>\n",
       "      <td>0</td>\n",
       "      <td>730</td>\n",
       "      <td>adult</td>\n",
       "      <td>1</td>\n",
       "      <td>Pit Bull</td>\n",
       "      <td>1</td>\n",
       "      <td>0</td>\n",
       "      <td>Blue</td>\n",
       "    </tr>\n",
       "    <tr>\n",
       "      <th>3</th>\n",
       "      <td>1</td>\n",
       "      <td>evening</td>\n",
       "      <td>Cat</td>\n",
       "      <td>Male</td>\n",
       "      <td>1</td>\n",
       "      <td>3</td>\n",
       "      <td>baby</td>\n",
       "      <td>1</td>\n",
       "      <td>Domestic Shorthair</td>\n",
       "      <td>0</td>\n",
       "      <td>0</td>\n",
       "      <td>Blue</td>\n",
       "    </tr>\n",
       "    <tr>\n",
       "      <th>4</th>\n",
       "      <td>1</td>\n",
       "      <td>afternoon</td>\n",
       "      <td>Dog</td>\n",
       "      <td>Male</td>\n",
       "      <td>0</td>\n",
       "      <td>730</td>\n",
       "      <td>adult</td>\n",
       "      <td>0</td>\n",
       "      <td>Lhasa A</td>\n",
       "      <td>0</td>\n",
       "      <td>0</td>\n",
       "      <td>Tan</td>\n",
       "    </tr>\n",
       "  </tbody>\n",
       "</table>\n",
       "</div>"
      ],
      "text/plain": [
       "   Nameless       Time Animal_type  Gender Intact  Age Age_categorical  Mix  \\\n",
       "0         0    evening         Dog    Male      0  365           young    1   \n",
       "1         0  afternoon         Cat  Female      0  365           young    1   \n",
       "2         0  afternoon         Dog    Male      0  730           adult    1   \n",
       "3         1    evening         Cat    Male      1    3            baby    1   \n",
       "4         1  afternoon         Dog    Male      0  730           adult    0   \n",
       "\n",
       "                 Breed  Bicolor  Tabby  Color  \n",
       "0   Shetland Sheepdog         1      0  Brown  \n",
       "1  Domestic Shorthair         0      1  Cream  \n",
       "2            Pit Bull         1      0   Blue  \n",
       "3  Domestic Shorthair         0      0   Blue  \n",
       "4              Lhasa A        0      0    Tan  "
      ]
     },
     "execution_count": 12,
     "metadata": {},
     "output_type": "execute_result"
    }
   ],
   "source": [
    "features = pd.concat([Nameless,Time,Animal_type,Gender,Intact,Age,Age_categorical,Mix,Breed,Bicolor,Tabby,Color],axis=1)\n",
    "features.columns = ['Nameless','Time','Animal_type','Gender','Intact','Age','Age_categorical','Mix','Breed','Bicolor','Tabby','Color']\n",
    "features.head()"
   ]
  },
  {
   "cell_type": "code",
   "execution_count": 13,
   "metadata": {
    "collapsed": false,
    "scrolled": true
   },
   "outputs": [
    {
     "data": {
      "text/html": [
       "<div>\n",
       "<table border=\"1\" class=\"dataframe\">\n",
       "  <thead>\n",
       "    <tr style=\"text-align: right;\">\n",
       "      <th></th>\n",
       "      <th>Nameless</th>\n",
       "      <th>Age</th>\n",
       "      <th>Mix</th>\n",
       "      <th>Bicolor</th>\n",
       "      <th>Tabby</th>\n",
       "    </tr>\n",
       "  </thead>\n",
       "  <tbody>\n",
       "    <tr>\n",
       "      <th>count</th>\n",
       "      <td>26729.000000</td>\n",
       "      <td>26729.000000</td>\n",
       "      <td>26729.000000</td>\n",
       "      <td>26729.000000</td>\n",
       "      <td>26729.000000</td>\n",
       "    </tr>\n",
       "    <tr>\n",
       "      <th>mean</th>\n",
       "      <td>0.287740</td>\n",
       "      <td>792.531296</td>\n",
       "      <td>0.834225</td>\n",
       "      <td>0.520932</td>\n",
       "      <td>0.194171</td>\n",
       "    </tr>\n",
       "    <tr>\n",
       "      <th>std</th>\n",
       "      <td>0.452718</td>\n",
       "      <td>1083.429636</td>\n",
       "      <td>0.371885</td>\n",
       "      <td>0.499571</td>\n",
       "      <td>0.395569</td>\n",
       "    </tr>\n",
       "    <tr>\n",
       "      <th>min</th>\n",
       "      <td>0.000000</td>\n",
       "      <td>0.000000</td>\n",
       "      <td>0.000000</td>\n",
       "      <td>0.000000</td>\n",
       "      <td>0.000000</td>\n",
       "    </tr>\n",
       "    <tr>\n",
       "      <th>25%</th>\n",
       "      <td>0.000000</td>\n",
       "      <td>60.000000</td>\n",
       "      <td>1.000000</td>\n",
       "      <td>0.000000</td>\n",
       "      <td>0.000000</td>\n",
       "    </tr>\n",
       "    <tr>\n",
       "      <th>50%</th>\n",
       "      <td>0.000000</td>\n",
       "      <td>365.000000</td>\n",
       "      <td>1.000000</td>\n",
       "      <td>1.000000</td>\n",
       "      <td>0.000000</td>\n",
       "    </tr>\n",
       "    <tr>\n",
       "      <th>75%</th>\n",
       "      <td>1.000000</td>\n",
       "      <td>1095.000000</td>\n",
       "      <td>1.000000</td>\n",
       "      <td>1.000000</td>\n",
       "      <td>0.000000</td>\n",
       "    </tr>\n",
       "    <tr>\n",
       "      <th>max</th>\n",
       "      <td>1.000000</td>\n",
       "      <td>7300.000000</td>\n",
       "      <td>1.000000</td>\n",
       "      <td>1.000000</td>\n",
       "      <td>1.000000</td>\n",
       "    </tr>\n",
       "  </tbody>\n",
       "</table>\n",
       "</div>"
      ],
      "text/plain": [
       "           Nameless           Age           Mix       Bicolor         Tabby\n",
       "count  26729.000000  26729.000000  26729.000000  26729.000000  26729.000000\n",
       "mean       0.287740    792.531296      0.834225      0.520932      0.194171\n",
       "std        0.452718   1083.429636      0.371885      0.499571      0.395569\n",
       "min        0.000000      0.000000      0.000000      0.000000      0.000000\n",
       "25%        0.000000     60.000000      1.000000      0.000000      0.000000\n",
       "50%        0.000000    365.000000      1.000000      1.000000      0.000000\n",
       "75%        1.000000   1095.000000      1.000000      1.000000      0.000000\n",
       "max        1.000000   7300.000000      1.000000      1.000000      1.000000"
      ]
     },
     "execution_count": 13,
     "metadata": {},
     "output_type": "execute_result"
    }
   ],
   "source": [
    "features.describe()"
   ]
  },
  {
   "cell_type": "markdown",
   "metadata": {
    "collapsed": true
   },
   "source": [
    "## train and test split"
   ]
  },
  {
   "cell_type": "code",
   "execution_count": 259,
   "metadata": {
    "collapsed": false
   },
   "outputs": [],
   "source": [
    "from sklearn.cross_validation import train_test_split\n",
    "X_train, X_test, y_train, y_test = train_test_split(features,label,test_size=0.1,random_state=1, stratify=label)"
   ]
  },
  {
   "cell_type": "markdown",
   "metadata": {},
   "source": [
    "## anamoly detection"
   ]
  },
  {
   "cell_type": "markdown",
   "metadata": {},
   "source": [
    "## visualization"
   ]
  },
  {
   "cell_type": "code",
   "execution_count": 153,
   "metadata": {
    "collapsed": false
   },
   "outputs": [
    {
     "data": {
      "text/html": [
       "<div>\n",
       "<table border=\"1\" class=\"dataframe\">\n",
       "  <thead>\n",
       "    <tr style=\"text-align: right;\">\n",
       "      <th></th>\n",
       "      <th>Nameless</th>\n",
       "      <th>Time</th>\n",
       "      <th>Animal_type</th>\n",
       "      <th>Gender</th>\n",
       "      <th>Intact</th>\n",
       "      <th>Age</th>\n",
       "      <th>Age_categorical</th>\n",
       "      <th>Mix</th>\n",
       "      <th>Breed</th>\n",
       "      <th>Bicolor</th>\n",
       "      <th>Tabby</th>\n",
       "      <th>Color</th>\n",
       "      <th>Label</th>\n",
       "    </tr>\n",
       "  </thead>\n",
       "  <tbody>\n",
       "    <tr>\n",
       "      <th>0</th>\n",
       "      <td>0</td>\n",
       "      <td>afternoon</td>\n",
       "      <td>Dog</td>\n",
       "      <td>Male</td>\n",
       "      <td>0</td>\n",
       "      <td>365</td>\n",
       "      <td>young</td>\n",
       "      <td>1</td>\n",
       "      <td>Australian Cattle Dog</td>\n",
       "      <td>1</td>\n",
       "      <td>0</td>\n",
       "      <td>Red</td>\n",
       "      <td>Return_to_owner</td>\n",
       "    </tr>\n",
       "    <tr>\n",
       "      <th>1</th>\n",
       "      <td>0</td>\n",
       "      <td>afternoon</td>\n",
       "      <td>Cat</td>\n",
       "      <td>Female</td>\n",
       "      <td>0</td>\n",
       "      <td>150</td>\n",
       "      <td>young</td>\n",
       "      <td>1</td>\n",
       "      <td>Domestic Shorthair</td>\n",
       "      <td>0</td>\n",
       "      <td>1</td>\n",
       "      <td>Orange</td>\n",
       "      <td>Adoption</td>\n",
       "    </tr>\n",
       "    <tr>\n",
       "      <th>2</th>\n",
       "      <td>0</td>\n",
       "      <td>afternoon</td>\n",
       "      <td>Dog</td>\n",
       "      <td>Female</td>\n",
       "      <td>0</td>\n",
       "      <td>365</td>\n",
       "      <td>young</td>\n",
       "      <td>1</td>\n",
       "      <td>Australian Shepherd</td>\n",
       "      <td>1</td>\n",
       "      <td>0</td>\n",
       "      <td>White</td>\n",
       "      <td>Return_to_owner</td>\n",
       "    </tr>\n",
       "    <tr>\n",
       "      <th>3</th>\n",
       "      <td>0</td>\n",
       "      <td>afternoon</td>\n",
       "      <td>Dog</td>\n",
       "      <td>Female</td>\n",
       "      <td>0</td>\n",
       "      <td>120</td>\n",
       "      <td>young</td>\n",
       "      <td>1</td>\n",
       "      <td>Pit Bull</td>\n",
       "      <td>1</td>\n",
       "      <td>0</td>\n",
       "      <td>Brown</td>\n",
       "      <td>Transfer</td>\n",
       "    </tr>\n",
       "    <tr>\n",
       "      <th>4</th>\n",
       "      <td>0</td>\n",
       "      <td>afternoon</td>\n",
       "      <td>Cat</td>\n",
       "      <td>Male</td>\n",
       "      <td>0</td>\n",
       "      <td>210</td>\n",
       "      <td>young</td>\n",
       "      <td>0</td>\n",
       "      <td>Domestic Medium H</td>\n",
       "      <td>0</td>\n",
       "      <td>1</td>\n",
       "      <td>Orange</td>\n",
       "      <td>Adoption</td>\n",
       "    </tr>\n",
       "    <tr>\n",
       "      <th>5</th>\n",
       "      <td>0</td>\n",
       "      <td>afternoon</td>\n",
       "      <td>Dog</td>\n",
       "      <td>Female</td>\n",
       "      <td>0</td>\n",
       "      <td>730</td>\n",
       "      <td>adult</td>\n",
       "      <td>1</td>\n",
       "      <td>Yorkshire Terrier</td>\n",
       "      <td>1</td>\n",
       "      <td>0</td>\n",
       "      <td>Gray</td>\n",
       "      <td>Transfer</td>\n",
       "    </tr>\n",
       "    <tr>\n",
       "      <th>6</th>\n",
       "      <td>0</td>\n",
       "      <td>afternoon</td>\n",
       "      <td>Cat</td>\n",
       "      <td>Male</td>\n",
       "      <td>0</td>\n",
       "      <td>60</td>\n",
       "      <td>baby</td>\n",
       "      <td>1</td>\n",
       "      <td>Domestic Longhair</td>\n",
       "      <td>1</td>\n",
       "      <td>0</td>\n",
       "      <td>Black</td>\n",
       "      <td>Adoption</td>\n",
       "    </tr>\n",
       "    <tr>\n",
       "      <th>7</th>\n",
       "      <td>0</td>\n",
       "      <td>afternoon</td>\n",
       "      <td>Cat</td>\n",
       "      <td>Male</td>\n",
       "      <td>0</td>\n",
       "      <td>3650</td>\n",
       "      <td>old</td>\n",
       "      <td>1</td>\n",
       "      <td>Domestic Shorthair</td>\n",
       "      <td>0</td>\n",
       "      <td>1</td>\n",
       "      <td>Brown</td>\n",
       "      <td>Adoption</td>\n",
       "    </tr>\n",
       "    <tr>\n",
       "      <th>8</th>\n",
       "      <td>0</td>\n",
       "      <td>evening</td>\n",
       "      <td>Dog</td>\n",
       "      <td>Female</td>\n",
       "      <td>0</td>\n",
       "      <td>60</td>\n",
       "      <td>baby</td>\n",
       "      <td>1</td>\n",
       "      <td>Jack Russell Terrier</td>\n",
       "      <td>1</td>\n",
       "      <td>0</td>\n",
       "      <td>White</td>\n",
       "      <td>Adoption</td>\n",
       "    </tr>\n",
       "    <tr>\n",
       "      <th>9</th>\n",
       "      <td>1</td>\n",
       "      <td>afternoon</td>\n",
       "      <td>Dog</td>\n",
       "      <td>Male</td>\n",
       "      <td>0</td>\n",
       "      <td>150</td>\n",
       "      <td>young</td>\n",
       "      <td>0</td>\n",
       "      <td>Australian Kel</td>\n",
       "      <td>1</td>\n",
       "      <td>0</td>\n",
       "      <td>Brown</td>\n",
       "      <td>Transfer</td>\n",
       "    </tr>\n",
       "    <tr>\n",
       "      <th>10</th>\n",
       "      <td>1</td>\n",
       "      <td>afternoon</td>\n",
       "      <td>Dog</td>\n",
       "      <td>Male</td>\n",
       "      <td>0</td>\n",
       "      <td>1095</td>\n",
       "      <td>adult</td>\n",
       "      <td>1</td>\n",
       "      <td>Lhasa Apso</td>\n",
       "      <td>0</td>\n",
       "      <td>0</td>\n",
       "      <td>White</td>\n",
       "      <td>Transfer</td>\n",
       "    </tr>\n",
       "    <tr>\n",
       "      <th>11</th>\n",
       "      <td>0</td>\n",
       "      <td>afternoon</td>\n",
       "      <td>Cat</td>\n",
       "      <td>Male</td>\n",
       "      <td>0</td>\n",
       "      <td>730</td>\n",
       "      <td>adult</td>\n",
       "      <td>1</td>\n",
       "      <td>Domestic Shorthair</td>\n",
       "      <td>0</td>\n",
       "      <td>1</td>\n",
       "      <td>Blue</td>\n",
       "      <td>Transfer</td>\n",
       "    </tr>\n",
       "    <tr>\n",
       "      <th>12</th>\n",
       "      <td>1</td>\n",
       "      <td>afternoon</td>\n",
       "      <td>Dog</td>\n",
       "      <td>Male</td>\n",
       "      <td>0</td>\n",
       "      <td>90</td>\n",
       "      <td>young</td>\n",
       "      <td>1</td>\n",
       "      <td>Pointer</td>\n",
       "      <td>1</td>\n",
       "      <td>0</td>\n",
       "      <td>White</td>\n",
       "      <td>Adoption</td>\n",
       "    </tr>\n",
       "    <tr>\n",
       "      <th>13</th>\n",
       "      <td>0</td>\n",
       "      <td>evening</td>\n",
       "      <td>Dog</td>\n",
       "      <td>Female</td>\n",
       "      <td>1</td>\n",
       "      <td>365</td>\n",
       "      <td>young</td>\n",
       "      <td>1</td>\n",
       "      <td>Pit Bull</td>\n",
       "      <td>1</td>\n",
       "      <td>0</td>\n",
       "      <td>White</td>\n",
       "      <td>Return_to_owner</td>\n",
       "    </tr>\n",
       "    <tr>\n",
       "      <th>14</th>\n",
       "      <td>0</td>\n",
       "      <td>afternoon</td>\n",
       "      <td>Dog</td>\n",
       "      <td>Male</td>\n",
       "      <td>0</td>\n",
       "      <td>2190</td>\n",
       "      <td>old</td>\n",
       "      <td>1</td>\n",
       "      <td>Rat Terrier</td>\n",
       "      <td>1</td>\n",
       "      <td>0</td>\n",
       "      <td>Brown</td>\n",
       "      <td>Adoption</td>\n",
       "    </tr>\n",
       "    <tr>\n",
       "      <th>15</th>\n",
       "      <td>1</td>\n",
       "      <td>morning</td>\n",
       "      <td>Cat</td>\n",
       "      <td>Male</td>\n",
       "      <td>1</td>\n",
       "      <td>365</td>\n",
       "      <td>young</td>\n",
       "      <td>1</td>\n",
       "      <td>Domestic Shorthair</td>\n",
       "      <td>1</td>\n",
       "      <td>1</td>\n",
       "      <td>Brown</td>\n",
       "      <td>Transfer</td>\n",
       "    </tr>\n",
       "    <tr>\n",
       "      <th>16</th>\n",
       "      <td>0</td>\n",
       "      <td>evening</td>\n",
       "      <td>Dog</td>\n",
       "      <td>Male</td>\n",
       "      <td>1</td>\n",
       "      <td>120</td>\n",
       "      <td>young</td>\n",
       "      <td>1</td>\n",
       "      <td>Dachshund Wirehair</td>\n",
       "      <td>1</td>\n",
       "      <td>0</td>\n",
       "      <td>Brown</td>\n",
       "      <td>Euthanasia</td>\n",
       "    </tr>\n",
       "    <tr>\n",
       "      <th>17</th>\n",
       "      <td>0</td>\n",
       "      <td>afternoon</td>\n",
       "      <td>Dog</td>\n",
       "      <td>Male</td>\n",
       "      <td>0</td>\n",
       "      <td>60</td>\n",
       "      <td>baby</td>\n",
       "      <td>1</td>\n",
       "      <td>Labrador Retriever</td>\n",
       "      <td>1</td>\n",
       "      <td>0</td>\n",
       "      <td>Black</td>\n",
       "      <td>Adoption</td>\n",
       "    </tr>\n",
       "    <tr>\n",
       "      <th>18</th>\n",
       "      <td>0</td>\n",
       "      <td>afternoon</td>\n",
       "      <td>Dog</td>\n",
       "      <td>Male</td>\n",
       "      <td>1</td>\n",
       "      <td>60</td>\n",
       "      <td>baby</td>\n",
       "      <td>1</td>\n",
       "      <td>Pit Bull</td>\n",
       "      <td>1</td>\n",
       "      <td>0</td>\n",
       "      <td>Black</td>\n",
       "      <td>Transfer</td>\n",
       "    </tr>\n",
       "    <tr>\n",
       "      <th>19</th>\n",
       "      <td>0</td>\n",
       "      <td>evening</td>\n",
       "      <td>Cat</td>\n",
       "      <td>Male</td>\n",
       "      <td>0</td>\n",
       "      <td>730</td>\n",
       "      <td>adult</td>\n",
       "      <td>1</td>\n",
       "      <td>Domestic Shorthair</td>\n",
       "      <td>1</td>\n",
       "      <td>1</td>\n",
       "      <td>Orange</td>\n",
       "      <td>Transfer</td>\n",
       "    </tr>\n",
       "    <tr>\n",
       "      <th>20</th>\n",
       "      <td>0</td>\n",
       "      <td>evening</td>\n",
       "      <td>Dog</td>\n",
       "      <td>Male</td>\n",
       "      <td>0</td>\n",
       "      <td>365</td>\n",
       "      <td>young</td>\n",
       "      <td>1</td>\n",
       "      <td>Shetland Sheepdog</td>\n",
       "      <td>1</td>\n",
       "      <td>0</td>\n",
       "      <td>Brown</td>\n",
       "      <td>Return_to_owner</td>\n",
       "    </tr>\n",
       "    <tr>\n",
       "      <th>21</th>\n",
       "      <td>0</td>\n",
       "      <td>morning</td>\n",
       "      <td>Dog</td>\n",
       "      <td>Female</td>\n",
       "      <td>0</td>\n",
       "      <td>180</td>\n",
       "      <td>young</td>\n",
       "      <td>0</td>\n",
       "      <td>Australian Cattle</td>\n",
       "      <td>1</td>\n",
       "      <td>0</td>\n",
       "      <td>White</td>\n",
       "      <td>Transfer</td>\n",
       "    </tr>\n",
       "    <tr>\n",
       "      <th>22</th>\n",
       "      <td>0</td>\n",
       "      <td>afternoon</td>\n",
       "      <td>Dog</td>\n",
       "      <td>Male</td>\n",
       "      <td>1</td>\n",
       "      <td>150</td>\n",
       "      <td>young</td>\n",
       "      <td>0</td>\n",
       "      <td>Miniature Pinsc</td>\n",
       "      <td>1</td>\n",
       "      <td>0</td>\n",
       "      <td>Black</td>\n",
       "      <td>Transfer</td>\n",
       "    </tr>\n",
       "    <tr>\n",
       "      <th>23</th>\n",
       "      <td>1</td>\n",
       "      <td>evening</td>\n",
       "      <td>Dog</td>\n",
       "      <td>Male</td>\n",
       "      <td>0</td>\n",
       "      <td>1825</td>\n",
       "      <td>old</td>\n",
       "      <td>1</td>\n",
       "      <td>Pit Bull</td>\n",
       "      <td>0</td>\n",
       "      <td>0</td>\n",
       "      <td>Tricolor</td>\n",
       "      <td>Adoption</td>\n",
       "    </tr>\n",
       "    <tr>\n",
       "      <th>24</th>\n",
       "      <td>0</td>\n",
       "      <td>afternoon</td>\n",
       "      <td>Cat</td>\n",
       "      <td>Male</td>\n",
       "      <td>0</td>\n",
       "      <td>60</td>\n",
       "      <td>baby</td>\n",
       "      <td>1</td>\n",
       "      <td>Domestic Shorthair</td>\n",
       "      <td>1</td>\n",
       "      <td>0</td>\n",
       "      <td>White</td>\n",
       "      <td>Adoption</td>\n",
       "    </tr>\n",
       "    <tr>\n",
       "      <th>25</th>\n",
       "      <td>0</td>\n",
       "      <td>afternoon</td>\n",
       "      <td>Dog</td>\n",
       "      <td>Female</td>\n",
       "      <td>0</td>\n",
       "      <td>1460</td>\n",
       "      <td>old</td>\n",
       "      <td>0</td>\n",
       "      <td>Labrador Retrie</td>\n",
       "      <td>0</td>\n",
       "      <td>0</td>\n",
       "      <td>Tan</td>\n",
       "      <td>Adoption</td>\n",
       "    </tr>\n",
       "    <tr>\n",
       "      <th>26</th>\n",
       "      <td>0</td>\n",
       "      <td>afternoon</td>\n",
       "      <td>Dog</td>\n",
       "      <td>Male</td>\n",
       "      <td>0</td>\n",
       "      <td>730</td>\n",
       "      <td>adult</td>\n",
       "      <td>1</td>\n",
       "      <td>Pit Bull</td>\n",
       "      <td>1</td>\n",
       "      <td>0</td>\n",
       "      <td>Gray</td>\n",
       "      <td>Return_to_owner</td>\n",
       "    </tr>\n",
       "    <tr>\n",
       "      <th>27</th>\n",
       "      <td>0</td>\n",
       "      <td>evening</td>\n",
       "      <td>Cat</td>\n",
       "      <td>Female</td>\n",
       "      <td>0</td>\n",
       "      <td>60</td>\n",
       "      <td>baby</td>\n",
       "      <td>1</td>\n",
       "      <td>Domestic Medium Hair</td>\n",
       "      <td>1</td>\n",
       "      <td>1</td>\n",
       "      <td>Brown</td>\n",
       "      <td>Adoption</td>\n",
       "    </tr>\n",
       "    <tr>\n",
       "      <th>28</th>\n",
       "      <td>1</td>\n",
       "      <td>morning</td>\n",
       "      <td>Cat</td>\n",
       "      <td>Male</td>\n",
       "      <td>1</td>\n",
       "      <td>365</td>\n",
       "      <td>young</td>\n",
       "      <td>1</td>\n",
       "      <td>Domestic Shorthair</td>\n",
       "      <td>1</td>\n",
       "      <td>1</td>\n",
       "      <td>Brown</td>\n",
       "      <td>Transfer</td>\n",
       "    </tr>\n",
       "    <tr>\n",
       "      <th>29</th>\n",
       "      <td>0</td>\n",
       "      <td>morning</td>\n",
       "      <td>Dog</td>\n",
       "      <td>Female</td>\n",
       "      <td>0</td>\n",
       "      <td>2190</td>\n",
       "      <td>old</td>\n",
       "      <td>0</td>\n",
       "      <td>Cataho</td>\n",
       "      <td>1</td>\n",
       "      <td>0</td>\n",
       "      <td>White</td>\n",
       "      <td>Transfer</td>\n",
       "    </tr>\n",
       "    <tr>\n",
       "      <th>...</th>\n",
       "      <td>...</td>\n",
       "      <td>...</td>\n",
       "      <td>...</td>\n",
       "      <td>...</td>\n",
       "      <td>...</td>\n",
       "      <td>...</td>\n",
       "      <td>...</td>\n",
       "      <td>...</td>\n",
       "      <td>...</td>\n",
       "      <td>...</td>\n",
       "      <td>...</td>\n",
       "      <td>...</td>\n",
       "      <td>...</td>\n",
       "    </tr>\n",
       "    <tr>\n",
       "      <th>24025</th>\n",
       "      <td>1</td>\n",
       "      <td>afternoon</td>\n",
       "      <td>Dog</td>\n",
       "      <td>Male</td>\n",
       "      <td>1</td>\n",
       "      <td>730</td>\n",
       "      <td>adult</td>\n",
       "      <td>1</td>\n",
       "      <td>Chow Chow</td>\n",
       "      <td>1</td>\n",
       "      <td>0</td>\n",
       "      <td>White</td>\n",
       "      <td>Euthanasia</td>\n",
       "    </tr>\n",
       "    <tr>\n",
       "      <th>24026</th>\n",
       "      <td>0</td>\n",
       "      <td>afternoon</td>\n",
       "      <td>Dog</td>\n",
       "      <td>Male</td>\n",
       "      <td>0</td>\n",
       "      <td>365</td>\n",
       "      <td>young</td>\n",
       "      <td>0</td>\n",
       "      <td>Miniature Schnau</td>\n",
       "      <td>1</td>\n",
       "      <td>0</td>\n",
       "      <td>Black</td>\n",
       "      <td>Adoption</td>\n",
       "    </tr>\n",
       "    <tr>\n",
       "      <th>24027</th>\n",
       "      <td>1</td>\n",
       "      <td>afternoon</td>\n",
       "      <td>Cat</td>\n",
       "      <td>Female</td>\n",
       "      <td>0</td>\n",
       "      <td>60</td>\n",
       "      <td>baby</td>\n",
       "      <td>1</td>\n",
       "      <td>Domestic Medium Hair</td>\n",
       "      <td>0</td>\n",
       "      <td>1</td>\n",
       "      <td>Blue</td>\n",
       "      <td>Adoption</td>\n",
       "    </tr>\n",
       "    <tr>\n",
       "      <th>24028</th>\n",
       "      <td>1</td>\n",
       "      <td>afternoon</td>\n",
       "      <td>Cat</td>\n",
       "      <td>Female</td>\n",
       "      <td>1</td>\n",
       "      <td>2</td>\n",
       "      <td>baby</td>\n",
       "      <td>1</td>\n",
       "      <td>Domestic Shorthair</td>\n",
       "      <td>1</td>\n",
       "      <td>1</td>\n",
       "      <td>Blue</td>\n",
       "      <td>Transfer</td>\n",
       "    </tr>\n",
       "    <tr>\n",
       "      <th>24029</th>\n",
       "      <td>0</td>\n",
       "      <td>evening</td>\n",
       "      <td>Cat</td>\n",
       "      <td>Female</td>\n",
       "      <td>0</td>\n",
       "      <td>2555</td>\n",
       "      <td>old</td>\n",
       "      <td>1</td>\n",
       "      <td>Domestic Shorthair</td>\n",
       "      <td>0</td>\n",
       "      <td>1</td>\n",
       "      <td>Cream</td>\n",
       "      <td>Return_to_owner</td>\n",
       "    </tr>\n",
       "    <tr>\n",
       "      <th>24030</th>\n",
       "      <td>1</td>\n",
       "      <td>afternoon</td>\n",
       "      <td>Cat</td>\n",
       "      <td>Female</td>\n",
       "      <td>1</td>\n",
       "      <td>90</td>\n",
       "      <td>young</td>\n",
       "      <td>1</td>\n",
       "      <td>Domestic Shorthair</td>\n",
       "      <td>0</td>\n",
       "      <td>0</td>\n",
       "      <td>Blue</td>\n",
       "      <td>Transfer</td>\n",
       "    </tr>\n",
       "    <tr>\n",
       "      <th>24031</th>\n",
       "      <td>1</td>\n",
       "      <td>afternoon</td>\n",
       "      <td>Dog</td>\n",
       "      <td>Female</td>\n",
       "      <td>1</td>\n",
       "      <td>180</td>\n",
       "      <td>young</td>\n",
       "      <td>1</td>\n",
       "      <td>Cairn Terrier</td>\n",
       "      <td>0</td>\n",
       "      <td>0</td>\n",
       "      <td>Black</td>\n",
       "      <td>Transfer</td>\n",
       "    </tr>\n",
       "    <tr>\n",
       "      <th>24032</th>\n",
       "      <td>0</td>\n",
       "      <td>afternoon</td>\n",
       "      <td>Dog</td>\n",
       "      <td>Male</td>\n",
       "      <td>0</td>\n",
       "      <td>330</td>\n",
       "      <td>young</td>\n",
       "      <td>1</td>\n",
       "      <td>Miniature Poodle</td>\n",
       "      <td>0</td>\n",
       "      <td>0</td>\n",
       "      <td>White</td>\n",
       "      <td>Return_to_owner</td>\n",
       "    </tr>\n",
       "    <tr>\n",
       "      <th>24033</th>\n",
       "      <td>0</td>\n",
       "      <td>afternoon</td>\n",
       "      <td>Dog</td>\n",
       "      <td>Female</td>\n",
       "      <td>0</td>\n",
       "      <td>60</td>\n",
       "      <td>baby</td>\n",
       "      <td>1</td>\n",
       "      <td>Catahoula</td>\n",
       "      <td>0</td>\n",
       "      <td>0</td>\n",
       "      <td>Tricolor</td>\n",
       "      <td>Adoption</td>\n",
       "    </tr>\n",
       "    <tr>\n",
       "      <th>24034</th>\n",
       "      <td>0</td>\n",
       "      <td>afternoon</td>\n",
       "      <td>Dog</td>\n",
       "      <td>Male</td>\n",
       "      <td>0</td>\n",
       "      <td>2190</td>\n",
       "      <td>old</td>\n",
       "      <td>0</td>\n",
       "      <td>Cocker Span</td>\n",
       "      <td>1</td>\n",
       "      <td>0</td>\n",
       "      <td>Black</td>\n",
       "      <td>Return_to_owner</td>\n",
       "    </tr>\n",
       "    <tr>\n",
       "      <th>24035</th>\n",
       "      <td>0</td>\n",
       "      <td>afternoon</td>\n",
       "      <td>Dog</td>\n",
       "      <td>Female</td>\n",
       "      <td>0</td>\n",
       "      <td>1095</td>\n",
       "      <td>adult</td>\n",
       "      <td>0</td>\n",
       "      <td>Doberman Pin</td>\n",
       "      <td>1</td>\n",
       "      <td>0</td>\n",
       "      <td>Black</td>\n",
       "      <td>Adoption</td>\n",
       "    </tr>\n",
       "    <tr>\n",
       "      <th>24036</th>\n",
       "      <td>0</td>\n",
       "      <td>afternoon</td>\n",
       "      <td>Dog</td>\n",
       "      <td>Male</td>\n",
       "      <td>0</td>\n",
       "      <td>1460</td>\n",
       "      <td>old</td>\n",
       "      <td>1</td>\n",
       "      <td>German Shepherd</td>\n",
       "      <td>0</td>\n",
       "      <td>0</td>\n",
       "      <td>Tricolor</td>\n",
       "      <td>Return_to_owner</td>\n",
       "    </tr>\n",
       "    <tr>\n",
       "      <th>24037</th>\n",
       "      <td>0</td>\n",
       "      <td>afternoon</td>\n",
       "      <td>Dog</td>\n",
       "      <td>Female</td>\n",
       "      <td>0</td>\n",
       "      <td>210</td>\n",
       "      <td>young</td>\n",
       "      <td>0</td>\n",
       "      <td>Labrador Retrie</td>\n",
       "      <td>1</td>\n",
       "      <td>0</td>\n",
       "      <td>Tan</td>\n",
       "      <td>Adoption</td>\n",
       "    </tr>\n",
       "    <tr>\n",
       "      <th>24038</th>\n",
       "      <td>0</td>\n",
       "      <td>afternoon</td>\n",
       "      <td>Cat</td>\n",
       "      <td>Male</td>\n",
       "      <td>0</td>\n",
       "      <td>120</td>\n",
       "      <td>young</td>\n",
       "      <td>1</td>\n",
       "      <td>Domestic Shorthair</td>\n",
       "      <td>0</td>\n",
       "      <td>1</td>\n",
       "      <td>Orange</td>\n",
       "      <td>Adoption</td>\n",
       "    </tr>\n",
       "    <tr>\n",
       "      <th>24039</th>\n",
       "      <td>1</td>\n",
       "      <td>morning</td>\n",
       "      <td>Cat</td>\n",
       "      <td>Female</td>\n",
       "      <td>1</td>\n",
       "      <td>365</td>\n",
       "      <td>young</td>\n",
       "      <td>1</td>\n",
       "      <td>Domestic Shorthair</td>\n",
       "      <td>0</td>\n",
       "      <td>0</td>\n",
       "      <td>Calico</td>\n",
       "      <td>Transfer</td>\n",
       "    </tr>\n",
       "    <tr>\n",
       "      <th>24040</th>\n",
       "      <td>0</td>\n",
       "      <td>early morning</td>\n",
       "      <td>Dog</td>\n",
       "      <td>Female</td>\n",
       "      <td>0</td>\n",
       "      <td>730</td>\n",
       "      <td>adult</td>\n",
       "      <td>1</td>\n",
       "      <td>Pit Bull</td>\n",
       "      <td>1</td>\n",
       "      <td>0</td>\n",
       "      <td>Brown</td>\n",
       "      <td>Transfer</td>\n",
       "    </tr>\n",
       "    <tr>\n",
       "      <th>24041</th>\n",
       "      <td>1</td>\n",
       "      <td>afternoon</td>\n",
       "      <td>Cat</td>\n",
       "      <td>Male</td>\n",
       "      <td>1</td>\n",
       "      <td>730</td>\n",
       "      <td>adult</td>\n",
       "      <td>1</td>\n",
       "      <td>Domestic Shorthair</td>\n",
       "      <td>0</td>\n",
       "      <td>1</td>\n",
       "      <td>Brown</td>\n",
       "      <td>Transfer</td>\n",
       "    </tr>\n",
       "    <tr>\n",
       "      <th>24042</th>\n",
       "      <td>0</td>\n",
       "      <td>afternoon</td>\n",
       "      <td>Dog</td>\n",
       "      <td>Male</td>\n",
       "      <td>0</td>\n",
       "      <td>2555</td>\n",
       "      <td>old</td>\n",
       "      <td>1</td>\n",
       "      <td>Chihuahua Shorthair</td>\n",
       "      <td>0</td>\n",
       "      <td>0</td>\n",
       "      <td>Tan</td>\n",
       "      <td>Transfer</td>\n",
       "    </tr>\n",
       "    <tr>\n",
       "      <th>24043</th>\n",
       "      <td>0</td>\n",
       "      <td>evening</td>\n",
       "      <td>Dog</td>\n",
       "      <td>Male</td>\n",
       "      <td>0</td>\n",
       "      <td>365</td>\n",
       "      <td>young</td>\n",
       "      <td>1</td>\n",
       "      <td>Labrador Retriever</td>\n",
       "      <td>1</td>\n",
       "      <td>0</td>\n",
       "      <td>Black</td>\n",
       "      <td>Adoption</td>\n",
       "    </tr>\n",
       "    <tr>\n",
       "      <th>24044</th>\n",
       "      <td>0</td>\n",
       "      <td>evening</td>\n",
       "      <td>Dog</td>\n",
       "      <td>Female</td>\n",
       "      <td>0</td>\n",
       "      <td>365</td>\n",
       "      <td>young</td>\n",
       "      <td>1</td>\n",
       "      <td>Australian Kelpie</td>\n",
       "      <td>0</td>\n",
       "      <td>0</td>\n",
       "      <td>Red</td>\n",
       "      <td>Adoption</td>\n",
       "    </tr>\n",
       "    <tr>\n",
       "      <th>24045</th>\n",
       "      <td>1</td>\n",
       "      <td>afternoon</td>\n",
       "      <td>Dog</td>\n",
       "      <td>Male</td>\n",
       "      <td>0</td>\n",
       "      <td>150</td>\n",
       "      <td>young</td>\n",
       "      <td>1</td>\n",
       "      <td>Pekingese</td>\n",
       "      <td>1</td>\n",
       "      <td>0</td>\n",
       "      <td>Brown</td>\n",
       "      <td>Transfer</td>\n",
       "    </tr>\n",
       "    <tr>\n",
       "      <th>24046</th>\n",
       "      <td>0</td>\n",
       "      <td>evening</td>\n",
       "      <td>Cat</td>\n",
       "      <td>Female</td>\n",
       "      <td>0</td>\n",
       "      <td>90</td>\n",
       "      <td>young</td>\n",
       "      <td>1</td>\n",
       "      <td>Domestic Shorthair</td>\n",
       "      <td>0</td>\n",
       "      <td>0</td>\n",
       "      <td>Calico</td>\n",
       "      <td>Adoption</td>\n",
       "    </tr>\n",
       "    <tr>\n",
       "      <th>24047</th>\n",
       "      <td>1</td>\n",
       "      <td>afternoon</td>\n",
       "      <td>Cat</td>\n",
       "      <td>Female</td>\n",
       "      <td>1</td>\n",
       "      <td>6</td>\n",
       "      <td>baby</td>\n",
       "      <td>1</td>\n",
       "      <td>Domestic Medium Hair</td>\n",
       "      <td>0</td>\n",
       "      <td>0</td>\n",
       "      <td>Torbie</td>\n",
       "      <td>Transfer</td>\n",
       "    </tr>\n",
       "    <tr>\n",
       "      <th>24048</th>\n",
       "      <td>1</td>\n",
       "      <td>afternoon</td>\n",
       "      <td>Dog</td>\n",
       "      <td>Male</td>\n",
       "      <td>1</td>\n",
       "      <td>730</td>\n",
       "      <td>adult</td>\n",
       "      <td>0</td>\n",
       "      <td>American Staffordshire Terr</td>\n",
       "      <td>1</td>\n",
       "      <td>0</td>\n",
       "      <td>Brown</td>\n",
       "      <td>Euthanasia</td>\n",
       "    </tr>\n",
       "    <tr>\n",
       "      <th>24049</th>\n",
       "      <td>1</td>\n",
       "      <td>afternoon</td>\n",
       "      <td>Cat</td>\n",
       "      <td>Male</td>\n",
       "      <td>1</td>\n",
       "      <td>2</td>\n",
       "      <td>baby</td>\n",
       "      <td>1</td>\n",
       "      <td>Domestic Medium Hair</td>\n",
       "      <td>1</td>\n",
       "      <td>1</td>\n",
       "      <td>Black</td>\n",
       "      <td>Transfer</td>\n",
       "    </tr>\n",
       "    <tr>\n",
       "      <th>24050</th>\n",
       "      <td>0</td>\n",
       "      <td>afternoon</td>\n",
       "      <td>Dog</td>\n",
       "      <td>Male</td>\n",
       "      <td>0</td>\n",
       "      <td>4015</td>\n",
       "      <td>old</td>\n",
       "      <td>0</td>\n",
       "      <td>Australian Sheph</td>\n",
       "      <td>1</td>\n",
       "      <td>0</td>\n",
       "      <td>Black</td>\n",
       "      <td>Euthanasia</td>\n",
       "    </tr>\n",
       "    <tr>\n",
       "      <th>24051</th>\n",
       "      <td>0</td>\n",
       "      <td>morning</td>\n",
       "      <td>Dog</td>\n",
       "      <td>Female</td>\n",
       "      <td>0</td>\n",
       "      <td>1460</td>\n",
       "      <td>old</td>\n",
       "      <td>1</td>\n",
       "      <td>Pit Bull</td>\n",
       "      <td>1</td>\n",
       "      <td>0</td>\n",
       "      <td>Blue</td>\n",
       "      <td>Return_to_owner</td>\n",
       "    </tr>\n",
       "    <tr>\n",
       "      <th>24052</th>\n",
       "      <td>0</td>\n",
       "      <td>afternoon</td>\n",
       "      <td>Dog</td>\n",
       "      <td>Male</td>\n",
       "      <td>0</td>\n",
       "      <td>1095</td>\n",
       "      <td>adult</td>\n",
       "      <td>1</td>\n",
       "      <td>Pit Bull</td>\n",
       "      <td>0</td>\n",
       "      <td>0</td>\n",
       "      <td>White</td>\n",
       "      <td>Euthanasia</td>\n",
       "    </tr>\n",
       "    <tr>\n",
       "      <th>24053</th>\n",
       "      <td>0</td>\n",
       "      <td>afternoon</td>\n",
       "      <td>Dog</td>\n",
       "      <td>Male</td>\n",
       "      <td>0</td>\n",
       "      <td>60</td>\n",
       "      <td>baby</td>\n",
       "      <td>0</td>\n",
       "      <td>Australian Cattle</td>\n",
       "      <td>1</td>\n",
       "      <td>0</td>\n",
       "      <td>Black</td>\n",
       "      <td>Adoption</td>\n",
       "    </tr>\n",
       "    <tr>\n",
       "      <th>24054</th>\n",
       "      <td>0</td>\n",
       "      <td>evening</td>\n",
       "      <td>Dog</td>\n",
       "      <td>Female</td>\n",
       "      <td>0</td>\n",
       "      <td>2555</td>\n",
       "      <td>old</td>\n",
       "      <td>1</td>\n",
       "      <td>Golden Retriever</td>\n",
       "      <td>0</td>\n",
       "      <td>0</td>\n",
       "      <td>Red</td>\n",
       "      <td>Return_to_owner</td>\n",
       "    </tr>\n",
       "  </tbody>\n",
       "</table>\n",
       "<p>24055 rows × 13 columns</p>\n",
       "</div>"
      ],
      "text/plain": [
       "       Nameless           Time Animal_type  Gender Intact   Age  \\\n",
       "0             0      afternoon         Dog    Male      0   365   \n",
       "1             0      afternoon         Cat  Female      0   150   \n",
       "2             0      afternoon         Dog  Female      0   365   \n",
       "3             0      afternoon         Dog  Female      0   120   \n",
       "4             0      afternoon         Cat    Male      0   210   \n",
       "5             0      afternoon         Dog  Female      0   730   \n",
       "6             0      afternoon         Cat    Male      0    60   \n",
       "7             0      afternoon         Cat    Male      0  3650   \n",
       "8             0        evening         Dog  Female      0    60   \n",
       "9             1      afternoon         Dog    Male      0   150   \n",
       "10            1      afternoon         Dog    Male      0  1095   \n",
       "11            0      afternoon         Cat    Male      0   730   \n",
       "12            1      afternoon         Dog    Male      0    90   \n",
       "13            0        evening         Dog  Female      1   365   \n",
       "14            0      afternoon         Dog    Male      0  2190   \n",
       "15            1        morning         Cat    Male      1   365   \n",
       "16            0        evening         Dog    Male      1   120   \n",
       "17            0      afternoon         Dog    Male      0    60   \n",
       "18            0      afternoon         Dog    Male      1    60   \n",
       "19            0        evening         Cat    Male      0   730   \n",
       "20            0        evening         Dog    Male      0   365   \n",
       "21            0        morning         Dog  Female      0   180   \n",
       "22            0      afternoon         Dog    Male      1   150   \n",
       "23            1        evening         Dog    Male      0  1825   \n",
       "24            0      afternoon         Cat    Male      0    60   \n",
       "25            0      afternoon         Dog  Female      0  1460   \n",
       "26            0      afternoon         Dog    Male      0   730   \n",
       "27            0        evening         Cat  Female      0    60   \n",
       "28            1        morning         Cat    Male      1   365   \n",
       "29            0        morning         Dog  Female      0  2190   \n",
       "...         ...            ...         ...     ...    ...   ...   \n",
       "24025         1      afternoon         Dog    Male      1   730   \n",
       "24026         0      afternoon         Dog    Male      0   365   \n",
       "24027         1      afternoon         Cat  Female      0    60   \n",
       "24028         1      afternoon         Cat  Female      1     2   \n",
       "24029         0        evening         Cat  Female      0  2555   \n",
       "24030         1      afternoon         Cat  Female      1    90   \n",
       "24031         1      afternoon         Dog  Female      1   180   \n",
       "24032         0      afternoon         Dog    Male      0   330   \n",
       "24033         0      afternoon         Dog  Female      0    60   \n",
       "24034         0      afternoon         Dog    Male      0  2190   \n",
       "24035         0      afternoon         Dog  Female      0  1095   \n",
       "24036         0      afternoon         Dog    Male      0  1460   \n",
       "24037         0      afternoon         Dog  Female      0   210   \n",
       "24038         0      afternoon         Cat    Male      0   120   \n",
       "24039         1        morning         Cat  Female      1   365   \n",
       "24040         0  early morning         Dog  Female      0   730   \n",
       "24041         1      afternoon         Cat    Male      1   730   \n",
       "24042         0      afternoon         Dog    Male      0  2555   \n",
       "24043         0        evening         Dog    Male      0   365   \n",
       "24044         0        evening         Dog  Female      0   365   \n",
       "24045         1      afternoon         Dog    Male      0   150   \n",
       "24046         0        evening         Cat  Female      0    90   \n",
       "24047         1      afternoon         Cat  Female      1     6   \n",
       "24048         1      afternoon         Dog    Male      1   730   \n",
       "24049         1      afternoon         Cat    Male      1     2   \n",
       "24050         0      afternoon         Dog    Male      0  4015   \n",
       "24051         0        morning         Dog  Female      0  1460   \n",
       "24052         0      afternoon         Dog    Male      0  1095   \n",
       "24053         0      afternoon         Dog    Male      0    60   \n",
       "24054         0        evening         Dog  Female      0  2555   \n",
       "\n",
       "      Age_categorical  Mix                        Breed  Bicolor  Tabby  \\\n",
       "0               young    1       Australian Cattle Dog         1      0   \n",
       "1               young    1          Domestic Shorthair         0      1   \n",
       "2               young    1         Australian Shepherd         1      0   \n",
       "3               young    1                    Pit Bull         1      0   \n",
       "4               young    0            Domestic Medium H        0      1   \n",
       "5               adult    1           Yorkshire Terrier         1      0   \n",
       "6                baby    1           Domestic Longhair         1      0   \n",
       "7                 old    1          Domestic Shorthair         0      1   \n",
       "8                baby    1        Jack Russell Terrier         1      0   \n",
       "9               young    0               Australian Kel        1      0   \n",
       "10              adult    1                  Lhasa Apso         0      0   \n",
       "11              adult    1          Domestic Shorthair         0      1   \n",
       "12              young    1                     Pointer         1      0   \n",
       "13              young    1                    Pit Bull         1      0   \n",
       "14                old    1                 Rat Terrier         1      0   \n",
       "15              young    1          Domestic Shorthair         1      1   \n",
       "16              young    1          Dachshund Wirehair         1      0   \n",
       "17               baby    1          Labrador Retriever         1      0   \n",
       "18               baby    1                    Pit Bull         1      0   \n",
       "19              adult    1          Domestic Shorthair         1      1   \n",
       "20              young    1           Shetland Sheepdog         1      0   \n",
       "21              young    0           Australian Cattle         1      0   \n",
       "22              young    0              Miniature Pinsc        1      0   \n",
       "23                old    1                    Pit Bull         0      0   \n",
       "24               baby    1          Domestic Shorthair         1      0   \n",
       "25                old    0              Labrador Retrie        0      0   \n",
       "26              adult    1                    Pit Bull         1      0   \n",
       "27               baby    1        Domestic Medium Hair         1      1   \n",
       "28              young    1          Domestic Shorthair         1      1   \n",
       "29                old    0                       Cataho        1      0   \n",
       "...               ...  ...                          ...      ...    ...   \n",
       "24025           adult    1                   Chow Chow         1      0   \n",
       "24026           young    0             Miniature Schnau        1      0   \n",
       "24027            baby    1        Domestic Medium Hair         0      1   \n",
       "24028            baby    1          Domestic Shorthair         1      1   \n",
       "24029             old    1          Domestic Shorthair         0      1   \n",
       "24030           young    1          Domestic Shorthair         0      0   \n",
       "24031           young    1               Cairn Terrier         0      0   \n",
       "24032           young    1            Miniature Poodle         0      0   \n",
       "24033            baby    1                   Catahoula         0      0   \n",
       "24034             old    0                  Cocker Span        1      0   \n",
       "24035           adult    0                 Doberman Pin        1      0   \n",
       "24036             old    1             German Shepherd         0      0   \n",
       "24037           young    0              Labrador Retrie        1      0   \n",
       "24038           young    1          Domestic Shorthair         0      1   \n",
       "24039           young    1          Domestic Shorthair         0      0   \n",
       "24040           adult    1                    Pit Bull         1      0   \n",
       "24041           adult    1          Domestic Shorthair         0      1   \n",
       "24042             old    1         Chihuahua Shorthair         0      0   \n",
       "24043           young    1          Labrador Retriever         1      0   \n",
       "24044           young    1           Australian Kelpie         0      0   \n",
       "24045           young    1                   Pekingese         1      0   \n",
       "24046           young    1          Domestic Shorthair         0      0   \n",
       "24047            baby    1        Domestic Medium Hair         0      0   \n",
       "24048           adult    0  American Staffordshire Terr        1      0   \n",
       "24049            baby    1        Domestic Medium Hair         1      1   \n",
       "24050             old    0             Australian Sheph        1      0   \n",
       "24051             old    1                    Pit Bull         1      0   \n",
       "24052           adult    1                    Pit Bull         0      0   \n",
       "24053            baby    0           Australian Cattle         1      0   \n",
       "24054             old    1            Golden Retriever         0      0   \n",
       "\n",
       "          Color            Label  \n",
       "0           Red  Return_to_owner  \n",
       "1        Orange         Adoption  \n",
       "2         White  Return_to_owner  \n",
       "3         Brown         Transfer  \n",
       "4        Orange         Adoption  \n",
       "5          Gray         Transfer  \n",
       "6         Black         Adoption  \n",
       "7         Brown         Adoption  \n",
       "8         White         Adoption  \n",
       "9         Brown         Transfer  \n",
       "10        White         Transfer  \n",
       "11         Blue         Transfer  \n",
       "12        White         Adoption  \n",
       "13        White  Return_to_owner  \n",
       "14        Brown         Adoption  \n",
       "15        Brown         Transfer  \n",
       "16        Brown       Euthanasia  \n",
       "17        Black         Adoption  \n",
       "18        Black         Transfer  \n",
       "19       Orange         Transfer  \n",
       "20        Brown  Return_to_owner  \n",
       "21        White         Transfer  \n",
       "22        Black         Transfer  \n",
       "23     Tricolor         Adoption  \n",
       "24        White         Adoption  \n",
       "25          Tan         Adoption  \n",
       "26         Gray  Return_to_owner  \n",
       "27        Brown         Adoption  \n",
       "28        Brown         Transfer  \n",
       "29        White         Transfer  \n",
       "...         ...              ...  \n",
       "24025     White       Euthanasia  \n",
       "24026     Black         Adoption  \n",
       "24027      Blue         Adoption  \n",
       "24028      Blue         Transfer  \n",
       "24029     Cream  Return_to_owner  \n",
       "24030      Blue         Transfer  \n",
       "24031     Black         Transfer  \n",
       "24032     White  Return_to_owner  \n",
       "24033  Tricolor         Adoption  \n",
       "24034     Black  Return_to_owner  \n",
       "24035     Black         Adoption  \n",
       "24036  Tricolor  Return_to_owner  \n",
       "24037       Tan         Adoption  \n",
       "24038    Orange         Adoption  \n",
       "24039    Calico         Transfer  \n",
       "24040     Brown         Transfer  \n",
       "24041     Brown         Transfer  \n",
       "24042       Tan         Transfer  \n",
       "24043     Black         Adoption  \n",
       "24044       Red         Adoption  \n",
       "24045     Brown         Transfer  \n",
       "24046    Calico         Adoption  \n",
       "24047    Torbie         Transfer  \n",
       "24048     Brown       Euthanasia  \n",
       "24049     Black         Transfer  \n",
       "24050     Black       Euthanasia  \n",
       "24051      Blue  Return_to_owner  \n",
       "24052     White       Euthanasia  \n",
       "24053     Black         Adoption  \n",
       "24054       Red  Return_to_owner  \n",
       "\n",
       "[24055 rows x 13 columns]"
      ]
     },
     "execution_count": 153,
     "metadata": {},
     "output_type": "execute_result"
    }
   ],
   "source": [
    "## plot data\n",
    "plt_data = pd.concat([pd.DataFrame(X_train).reset_index(),pd.Series(y_train)],axis=1)\n",
    "plt_data.columns = ['index','Nameless','Time','Animal_type','Gender','Intact','Age','Age_categorical','Mix','Breed','Bicolor','Tabby','Color','Label']\n",
    "plt_data.drop('index',axis=1)"
   ]
  },
  {
   "cell_type": "code",
   "execution_count": 154,
   "metadata": {
    "collapsed": false
   },
   "outputs": [
    {
     "data": {
      "image/png": "[encoded data removed]",
      "text/plain": [
       "<matplotlib.figure.Figure at 0x7f6d61065b10>"
      ]
     },
     "metadata": {},
     "output_type": "display_data"
    }
   ],
   "source": [
    "#plot\n",
    "# whether animal have a name\n",
    "sns.countplot(x='Nameless',hue='Label',data=plt_data)\n",
    "plt.savefig('name.png')"
   ]
  },
  {
   "cell_type": "code",
   "execution_count": 155,
   "metadata": {
    "collapsed": false
   },
   "outputs": [
    {
     "data": {
      "image/png": "[encoded data removed]",
      "text/plain": [
       "<matplotlib.figure.Figure at 0x7f6d60d50950>"
      ]
     },
     "metadata": {},
     "output_type": "display_data"
    }
   ],
   "source": [
    "# time\n",
    "sns.countplot(x='Time',hue='Label',data=plt_data)\n",
    "plt.savefig('time.png')"
   ]
  },
  {
   "cell_type": "code",
   "execution_count": 156,
   "metadata": {
    "collapsed": false
   },
   "outputs": [
    {
     "data": {
      "image/png": "[encoded data removed]",
      "text/plain": [
       "<matplotlib.figure.Figure at 0x7f6d60daff90>"
      ]
     },
     "metadata": {},
     "output_type": "display_data"
    }
   ],
   "source": [
    "# Animal Type\n",
    "sns.countplot(x='Animal_type',hue='Label',data=plt_data)\n",
    "plt.savefig('animal.png')"
   ]
  },
  {
   "cell_type": "code",
   "execution_count": 157,
   "metadata": {
    "collapsed": false
   },
   "outputs": [
    {
     "data": {
      "image/png": "[encoded data removed]",
      "text/plain": [
       "<matplotlib.figure.Figure at 0x7f6d616065d0>"
      ]
     },
     "metadata": {},
     "output_type": "display_data"
    }
   ],
   "source": [
    "# Gender\n",
    "sns.countplot(x='Gender',hue='Label',data=plt_data)\n",
    "plt.savefig('gender.png')"
   ]
  },
  {
   "cell_type": "code",
   "execution_count": 158,
   "metadata": {
    "collapsed": false
   },
   "outputs": [
    {
     "data": {
      "image/png": "[encoded data removed]",
      "text/plain": [
       "<matplotlib.figure.Figure at 0x7f6d60cb30d0>"
      ]
     },
     "metadata": {},
     "output_type": "display_data"
    }
   ],
   "source": [
    "# Intact\n",
    "sns.countplot(x='Intact',hue='Label',data=plt_data)\n",
    "plt.savefig('intact.png')"
   ]
  },
  {
   "cell_type": "code",
   "execution_count": 159,
   "metadata": {
    "collapsed": false
   },
   "outputs": [
    {
     "data": {
      "image/png": "[encoded data removed]",
      "text/plain": [
       "<matplotlib.figure.Figure at 0x7f6d60cb3250>"
      ]
     },
     "metadata": {},
     "output_type": "display_data"
    }
   ],
   "source": [
    "# age\n",
    "sns.boxplot(x='Label',y='Age',data=plt_data)\n",
    "plt.savefig('age.png')"
   ]
  },
  {
   "cell_type": "code",
   "execution_count": 160,
   "metadata": {
    "collapsed": false
   },
   "outputs": [
    {
     "data": {
      "image/png": "[encoded data removed]",
      "text/plain": [
       "<matplotlib.figure.Figure at 0x7f6d60662910>"
      ]
     },
     "metadata": {},
     "output_type": "display_data"
    }
   ],
   "source": [
    "# Mix\n",
    "sns.countplot(x='Mix',hue='Label',data=plt_data)\n",
    "plt.savefig('mix.png')"
   ]
  },
  {
   "cell_type": "code",
   "execution_count": 161,
   "metadata": {
    "collapsed": false,
    "scrolled": true
   },
   "outputs": [
    {
     "data": {
      "image/png": "[encoded data removed]",
      "text/plain": [
       "<matplotlib.figure.Figure at 0x7f6d605f4650>"
      ]
     },
     "metadata": {},
     "output_type": "display_data"
    }
   ],
   "source": [
    "# Tabby\n",
    "sns.countplot(x='Tabby',hue='Label',data=plt_data)\n",
    "plt.savefig('tabby.png')"
   ]
  },
  {
   "cell_type": "code",
   "execution_count": 162,
   "metadata": {
    "collapsed": false
   },
   "outputs": [
    {
     "data": {
      "image/png": "[encoded data removed]",
      "text/plain": [
       "<matplotlib.figure.Figure at 0x7f6d60efc590>"
      ]
     },
     "metadata": {},
     "output_type": "display_data"
    }
   ],
   "source": [
    "# bicolor\n",
    "sns.countplot(x='Bicolor',hue='Label',data=plt_data)\n",
    "plt.savefig('bicolor.png')"
   ]
  },
  {
   "cell_type": "markdown",
   "metadata": {},
   "source": [
    "## test for independence"
   ]
  },
  {
   "cell_type": "code",
   "execution_count": 163,
   "metadata": {
    "collapsed": true
   },
   "outputs": [],
   "source": [
    "from scipy import stats"
   ]
  },
  {
   "cell_type": "code",
   "execution_count": 164,
   "metadata": {
    "collapsed": false,
    "scrolled": true
   },
   "outputs": [
    {
     "data": {
      "text/plain": [
       "0.0"
      ]
     },
     "execution_count": 164,
     "metadata": {},
     "output_type": "execute_result"
    }
   ],
   "source": [
    "# Nameless\n",
    "pivoted_Nameless = pd.crosstab(plt_data.Nameless,plt_data.Label)\n",
    "pivoted_Nameless = np.array(pivoted_Nameless)\n",
    "\n",
    "# test\n",
    "g, p, dof, expctd = stats.chi2_contingency(pivoted_Nameless)\n",
    "p"
   ]
  },
  {
   "cell_type": "code",
   "execution_count": 165,
   "metadata": {
    "collapsed": false
   },
   "outputs": [
    {
     "data": {
      "text/plain": [
       "0.0"
      ]
     },
     "execution_count": 165,
     "metadata": {},
     "output_type": "execute_result"
    }
   ],
   "source": [
    "# time\n",
    "pivoted_Time = pd.crosstab(plt_data.Time,plt_data.Label)\n",
    "pivoted_Time = np.array(pivoted_Time)\n",
    "\n",
    "# test\n",
    "g, p, dof, expctd = stats.chi2_contingency(pivoted_Time)\n",
    "p"
   ]
  },
  {
   "cell_type": "code",
   "execution_count": 166,
   "metadata": {
    "collapsed": false
   },
   "outputs": [
    {
     "name": "stdout",
     "output_type": "stream",
     "text": [
      "[[3823  133  645  448 4958]\n",
      " [5869   44  754 3859 3522]]\n"
     ]
    },
    {
     "data": {
      "text/plain": [
       "0.0"
      ]
     },
     "execution_count": 166,
     "metadata": {},
     "output_type": "execute_result"
    }
   ],
   "source": [
    "# animal type\n",
    "pivoted_Animal = pd.crosstab(plt_data.Animal_type,plt_data.Label)\n",
    "pivoted_Animal = np.array(pivoted_Animal)\n",
    "print pivoted_Animal\n",
    "# test\n",
    "g, p, dof, expctd = stats.chi2_contingency(pivoted_Animal)\n",
    "p"
   ]
  },
  {
   "cell_type": "code",
   "execution_count": 167,
   "metadata": {
    "collapsed": false
   },
   "outputs": [
    {
     "data": {
      "text/plain": [
       "1.5019891348046218e-16"
      ]
     },
     "execution_count": 167,
     "metadata": {},
     "output_type": "execute_result"
    }
   ],
   "source": [
    "# gender\n",
    "pivoted_Gender = pd.crosstab(plt_data.Gender,plt_data.Label)\n",
    "pivoted_Gender = np.array(pivoted_Gender)[:2]\n",
    "# test\n",
    "g, p, dof, expctd = stats.chi2_contingency(pivoted_Gender)\n",
    "p"
   ]
  },
  {
   "cell_type": "code",
   "execution_count": 168,
   "metadata": {
    "collapsed": false
   },
   "outputs": [
    {
     "data": {
      "text/plain": [
       "0.0"
      ]
     },
     "execution_count": 168,
     "metadata": {},
     "output_type": "execute_result"
    }
   ],
   "source": [
    "# Intact\n",
    "pivoted_Intact = pd.crosstab(plt_data.Intact,plt_data.Label)\n",
    "pivoted_Intact = np.array(pivoted_Intact)\n",
    "# test\n",
    "g, p, dof, expctd = stats.chi2_contingency(pivoted_Intact)\n",
    "p"
   ]
  },
  {
   "cell_type": "code",
   "execution_count": 169,
   "metadata": {
    "collapsed": false
   },
   "outputs": [
    {
     "data": {
      "text/plain": [
       "1.5908679314060933e-56"
      ]
     },
     "execution_count": 169,
     "metadata": {},
     "output_type": "execute_result"
    }
   ],
   "source": [
    "# Mix\n",
    "pivoted_Mix = pd.crosstab(plt_data.Mix,plt_data.Label)\n",
    "pivoted_Mix = np.array(pivoted_Mix)\n",
    "# test\n",
    "g, p, dof, expctd = stats.chi2_contingency(pivoted_Mix)\n",
    "p"
   ]
  },
  {
   "cell_type": "code",
   "execution_count": 170,
   "metadata": {
    "collapsed": false
   },
   "outputs": [
    {
     "data": {
      "text/plain": [
       "9.6834937608350548e-214"
      ]
     },
     "execution_count": 170,
     "metadata": {},
     "output_type": "execute_result"
    }
   ],
   "source": [
    "# Tabby\n",
    "pivoted_Tabby = pd.crosstab(plt_data.Tabby,plt_data.Label)\n",
    "pivoted_Tabby = np.array(pivoted_Tabby)\n",
    "# test\n",
    "g, p, dof, expctd = stats.chi2_contingency(pivoted_Tabby)\n",
    "p"
   ]
  },
  {
   "cell_type": "code",
   "execution_count": 171,
   "metadata": {
    "collapsed": false
   },
   "outputs": [
    {
     "data": {
      "text/plain": [
       "5.5282128677167639e-62"
      ]
     },
     "execution_count": 171,
     "metadata": {},
     "output_type": "execute_result"
    }
   ],
   "source": [
    "# bicolor\n",
    "pivoted_Bicolor = pd.crosstab(plt_data.Bicolor,plt_data.Label)\n",
    "pivoted_Bicolor = np.array(pivoted_Bicolor)\n",
    "# test\n",
    "g, p, dof, expctd = stats.chi2_contingency(pivoted_Bicolor)\n",
    "p"
   ]
  },
  {
   "cell_type": "markdown",
   "metadata": {},
   "source": [
    "## preprocess features"
   ]
  },
  {
   "cell_type": "code",
   "execution_count": 172,
   "metadata": {
    "collapsed": false
   },
   "outputs": [],
   "source": [
    "# time\n",
    "from sklearn import preprocessing\n",
    "le_time = preprocessing.LabelEncoder()\n",
    "X_train.Time = le_time.fit_transform(X_train.Time)"
   ]
  },
  {
   "cell_type": "code",
   "execution_count": 173,
   "metadata": {
    "collapsed": false
   },
   "outputs": [],
   "source": [
    "# nameless\n",
    "le_nameless = preprocessing.LabelEncoder()\n",
    "X_train.Nameless = le_nameless.fit_transform(X_train.Nameless)"
   ]
  },
  {
   "cell_type": "code",
   "execution_count": 174,
   "metadata": {
    "collapsed": false
   },
   "outputs": [],
   "source": [
    "# animal type\n",
    "le_animal = preprocessing.LabelEncoder()\n",
    "X_train.Animal_type = le_animal.fit_transform(X_train.Animal_type)"
   ]
  },
  {
   "cell_type": "code",
   "execution_count": 175,
   "metadata": {
    "collapsed": true
   },
   "outputs": [],
   "source": [
    "# gender\n",
    "le_gender = preprocessing.LabelEncoder()\n",
    "X_train.Gender = le_gender.fit_transform(X_train.Gender)"
   ]
  },
  {
   "cell_type": "code",
   "execution_count": 176,
   "metadata": {
    "collapsed": true
   },
   "outputs": [],
   "source": [
    "# intact\n",
    "le_intact = preprocessing.LabelEncoder()\n",
    "X_train.Intact = le_intact.fit_transform(X_train.Intact)"
   ]
  },
  {
   "cell_type": "code",
   "execution_count": 177,
   "metadata": {
    "collapsed": true
   },
   "outputs": [],
   "source": [
    "# mix\n",
    "le_mix = preprocessing.LabelEncoder()\n",
    "X_train.Mix = le_mix.fit_transform(X_train.Mix)"
   ]
  },
  {
   "cell_type": "code",
   "execution_count": 178,
   "metadata": {
    "collapsed": true
   },
   "outputs": [],
   "source": [
    "# breed\n",
    "le_breed = preprocessing.LabelEncoder()\n",
    "X_train.Breed = le_breed.fit_transform(X_train.Breed)"
   ]
  },
  {
   "cell_type": "code",
   "execution_count": 179,
   "metadata": {
    "collapsed": true
   },
   "outputs": [],
   "source": [
    "# tabby\n",
    "le_tabby = preprocessing.LabelEncoder()\n",
    "X_train.Tabby = le_tabby.fit_transform(X_train.Tabby)"
   ]
  },
  {
   "cell_type": "code",
   "execution_count": 180,
   "metadata": {
    "collapsed": true
   },
   "outputs": [],
   "source": [
    "# bicolor\n",
    "le_bicolor = preprocessing.LabelEncoder()\n",
    "X_train.Bicolor = le_bicolor.fit_transform(X_train.Bicolor)"
   ]
  },
  {
   "cell_type": "code",
   "execution_count": 181,
   "metadata": {
    "collapsed": true
   },
   "outputs": [],
   "source": [
    "# color\n",
    "le_color = preprocessing.LabelEncoder()\n",
    "X_train.Color = le_tabby.fit_transform(X_train.Color)"
   ]
  },
  {
   "cell_type": "code",
   "execution_count": 182,
   "metadata": {
    "collapsed": false
   },
   "outputs": [],
   "source": [
    "# age_categorical\n",
    "le_age = preprocessing.LabelEncoder()\n",
    "X_train.Age_categorical = le_age.fit_transform(X_train.Age_categorical)"
   ]
  },
  {
   "cell_type": "code",
   "execution_count": 183,
   "metadata": {
    "collapsed": true
   },
   "outputs": [],
   "source": [
    "# label\n",
    "le_label = preprocessing.LabelEncoder()\n",
    "y_train = le_label.fit_transform(y_train)"
   ]
  },
  {
   "cell_type": "code",
   "execution_count": 184,
   "metadata": {
    "collapsed": false
   },
   "outputs": [],
   "source": [
    "# train data for tree based model\n",
    "# drop categorical age feature\n",
    "X_train_tree = X_train.drop('Age_categorical',axis=1)\n",
    "\n",
    "# train data for NB based model\n",
    "# drop age feature\n",
    "X_train_nb = X_train.drop('Age',axis=1)"
   ]
  },
  {
   "cell_type": "markdown",
   "metadata": {},
   "source": [
    "## train model"
   ]
  },
  {
   "cell_type": "code",
   "execution_count": 185,
   "metadata": {
    "collapsed": false
   },
   "outputs": [],
   "source": [
    "### random forest\n",
    "from sklearn.ensemble import RandomForestClassifier\n",
    "clf_rf = RandomForestClassifier()\n",
    "clf_rf = clf_rf.fit(X_train_tree,y_train)"
   ]
  },
  {
   "cell_type": "code",
   "execution_count": 186,
   "metadata": {
    "collapsed": false
   },
   "outputs": [
    {
     "data": {
      "text/plain": [
       "MultinomialNB(alpha=1.0, class_prior=None, fit_prior=True)"
      ]
     },
     "execution_count": 186,
     "metadata": {},
     "output_type": "execute_result"
    }
   ],
   "source": [
    "# train classifier\n",
    "from sklearn.naive_bayes import MultinomialNB\n",
    "clf_nb = MultinomialNB()\n",
    "clf_nb.fit(X_train_nb,y_train)\n"
   ]
  },
  {
   "cell_type": "markdown",
   "metadata": {},
   "source": [
    "## tune parameters"
   ]
  },
  {
   "cell_type": "code",
   "execution_count": 187,
   "metadata": {
    "collapsed": false
   },
   "outputs": [
    {
     "data": {
      "text/plain": [
       "GridSearchCV(cv=None, error_score='raise',\n",
       "       estimator=RandomForestClassifier(bootstrap=True, class_weight=None, criterion='gini',\n",
       "            max_depth=None, max_features='auto', max_leaf_nodes=None,\n",
       "            min_samples_leaf=1, min_samples_split=2,\n",
       "            min_weight_fraction_leaf=0.0, n_estimators=10, n_jobs=1,\n",
       "            oob_score=False, random_state=None, verbose=0,\n",
       "            warm_start=False),\n",
       "       fit_params={}, iid=True, n_jobs=1,\n",
       "       param_grid={'bootstrap': [True, False], 'min_samples_leaf': [1, 3, 5, 7, 10], 'min_samples_split': [1, 3, 5, 7, 10], 'criterion': ['gini', 'entropy'], 'max_features': [1, 3, 5, 7, 10], 'max_depth': [3, None]},\n",
       "       pre_dispatch='2*n_jobs', refit=True, scoring='log_loss', verbose=0)"
      ]
     },
     "execution_count": 187,
     "metadata": {},
     "output_type": "execute_result"
    }
   ],
   "source": [
    "## random forest\n",
    "from sklearn.grid_search import GridSearchCV\n",
    "param_grid_rf = {\"max_depth\": [3, None],\n",
    "                 \"max_features\": [1, 3, 5, 7, 10],\n",
    "                 \"min_samples_split\": [1, 3, 5, 7, 10],\n",
    "                 \"min_samples_leaf\": [1, 3, 5, 7, 10],\n",
    "                 \"bootstrap\": [True, False],\n",
    "                 \"criterion\": [\"gini\", \"entropy\"]}\n",
    "\n",
    "# run grid search\n",
    "clf_rf_tuned = GridSearchCV(clf_rf, param_grid=param_grid_rf,scoring ='log_loss')\n",
    "clf_rf_tuned.fit(X_train_tree, y_train)"
   ]
  },
  {
   "cell_type": "code",
   "execution_count": 188,
   "metadata": {
    "collapsed": false
   },
   "outputs": [
    {
     "data": {
      "text/plain": [
       "GridSearchCV(cv=None, error_score='raise',\n",
       "       estimator=MultinomialNB(alpha=1.0, class_prior=None, fit_prior=True),\n",
       "       fit_params={}, iid=True, n_jobs=1,\n",
       "       param_grid={'alpha': [1, 0.1, 0.01, 0.001, 0.0001, 0], 'fit_prior': [True, False]},\n",
       "       pre_dispatch='2*n_jobs', refit=True, scoring='log_loss', verbose=0)"
      ]
     },
     "execution_count": 188,
     "metadata": {},
     "output_type": "execute_result"
    }
   ],
   "source": [
    "## Naive Bayes\n",
    "from sklearn.grid_search import GridSearchCV\n",
    "param_grid_nb = {'alpha':[1,0.1,0.01,0.001,0.0001,0],\n",
    "                 'fit_prior':[True,False]}\n",
    "\n",
    "# run grid search\n",
    "clf_nb_tuned = GridSearchCV(clf_nb, param_grid=param_grid_nb,scoring='log_loss')\n",
    "clf_nb_tuned.fit(X_train_nb, y_train)"
   ]
  },
  {
   "cell_type": "markdown",
   "metadata": {},
   "source": [
    "## Test on testing dataset"
   ]
  },
  {
   "cell_type": "code",
   "execution_count": 260,
   "metadata": {
    "collapsed": false
   },
   "outputs": [],
   "source": [
    "## feature preporcess\n",
    "le_time = preprocessing.LabelEncoder()\n",
    "X_test.Time = le_time.fit_transform(X_test.Time)\n",
    "\n",
    "# nameless\n",
    "le_nameless = preprocessing.LabelEncoder()\n",
    "X_test.Nameless = le_nameless.fit_transform(X_test.Nameless)\n",
    "\n",
    "# animal type\n",
    "le_animal = preprocessing.LabelEncoder()\n",
    "X_test.Animal_type = le_animal.fit_transform(X_test.Animal_type)\n",
    "\n",
    "# gender\n",
    "le_gender = preprocessing.LabelEncoder()\n",
    "X_test.Gender = le_gender.fit_transform(X_test.Gender)\n",
    "\n",
    "# intact\n",
    "le_intact = preprocessing.LabelEncoder()\n",
    "X_test.Intact = le_intact.fit_transform(X_test.Intact)\n",
    "\n",
    "# mix\n",
    "le_mix = preprocessing.LabelEncoder()\n",
    "X_test.Mix = le_mix.fit_transform(X_test.Mix)\n",
    "\n",
    "# breed\n",
    "le_breed = preprocessing.LabelEncoder()\n",
    "X_test.Breed = le_breed.fit_transform(X_test.Breed)\n",
    "\n",
    "# tabby\n",
    "le_tabby = preprocessing.LabelEncoder()\n",
    "X_test.Tabby = le_tabby.fit_transform(X_test.Tabby)\n",
    "\n",
    "# bicolor\n",
    "le_bicolor = preprocessing.LabelEncoder()\n",
    "X_test.Bicolor = le_bicolor.fit_transform(X_test.Bicolor)\n",
    "\n",
    "# color\n",
    "le_color = preprocessing.LabelEncoder()\n",
    "X_test.Color = le_tabby.fit_transform(X_test.Color)\n",
    "\n",
    "# age_categorical\n",
    "le_age = preprocessing.LabelEncoder()\n",
    "X_test.Age_categorical = le_label.fit_transform(X_test.Age_categorical)\n",
    "\n",
    "# label\n",
    "le_label = preprocessing.LabelEncoder()\n",
    "y_test = le_label.fit_transform(y_test)"
   ]
  },
  {
   "cell_type": "code",
   "execution_count": 261,
   "metadata": {
    "collapsed": false,
    "scrolled": true
   },
   "outputs": [
    {
     "name": "stdout",
     "output_type": "stream",
     "text": [
      "3.29110791375\n",
      "0.873548571585\n"
     ]
    }
   ],
   "source": [
    "# for Random forest\n",
    "X_test_tree = X_test.drop('Age_categorical',axis=1)\n",
    "y_pred = clf_rf.predict_proba(X_test_tree)\n",
    "\n",
    "from sklearn.metrics import log_loss\n",
    "print log_loss(y_test,y_pred)\n",
    "\n",
    "# for tune Random forest\n",
    "X_test_tree = X_test.drop('Age_categorical',axis=1)\n",
    "y_pred = clf_rf_tuned.predict_proba(X_test_tree)\n",
    "\n",
    "\n",
    "from sklearn.metrics import log_loss\n",
    "print log_loss(y_test,y_pred)\n"
   ]
  },
  {
   "cell_type": "code",
   "execution_count": 262,
   "metadata": {
    "collapsed": false
   },
   "outputs": [
    {
     "name": "stdout",
     "output_type": "stream",
     "text": [
      "1.01641181376\n",
      "1.01641181376\n"
     ]
    }
   ],
   "source": [
    "# for naive bayes\n",
    "X_test_nb = X_test.drop('Age',axis=1)\n",
    "y_pred = clf_nb.predict_proba(X_test_nb)\n",
    "\n",
    "from sklearn.metrics import log_loss\n",
    "print log_loss(y_test,y_pred)\n",
    "\n",
    "# for tuned naive bayes\n",
    "X_test_nb = X_test.drop('Age',axis=1)\n",
    "y_pred = clf_nb_tuned.predict_proba(X_test_nb)\n",
    "\n",
    "\n",
    "from sklearn.metrics import log_loss\n",
    "print log_loss(y_test,y_pred)\n",
    "\n"
   ]
  },
  {
   "cell_type": "code",
   "execution_count": 263,
   "metadata": {
    "collapsed": false
   },
   "outputs": [],
   "source": [
    "## result visulization on testing set\n",
    "\n",
    "# predict\n",
    "y_pred = clf_rf_tuned.predict(X_test_tree)\n",
    "\n",
    "# inverse encode label\n",
    "y_pred = le_label.inverse_transform(y_pred)\n",
    "\n",
    "# inverse test label\n",
    "y_test = le_label.inverse_transform(y_test)"
   ]
  },
  {
   "cell_type": "code",
   "execution_count": 264,
   "metadata": {
    "collapsed": false
   },
   "outputs": [],
   "source": [
    "y_pred = pd.DataFrame(y_pred)\n",
    "y_pred.columns = ['pred']\n",
    "y_test = pd.DataFrame(y_test)\n",
    "y_test.columns = ['test']"
   ]
  },
  {
   "cell_type": "code",
   "execution_count": 265,
   "metadata": {
    "collapsed": false
   },
   "outputs": [
    {
     "name": "stdout",
     "output_type": "stream",
     "text": [
      "                 pred\n",
      "0          Euthanasia\n",
      "1            Adoption\n",
      "2            Adoption\n",
      "3            Transfer\n",
      "4            Transfer\n",
      "5            Adoption\n",
      "6            Adoption\n",
      "7            Adoption\n",
      "8            Adoption\n",
      "9            Transfer\n",
      "10           Adoption\n",
      "11           Adoption\n",
      "12           Transfer\n",
      "13           Adoption\n",
      "14           Adoption\n",
      "15           Adoption\n",
      "16           Adoption\n",
      "17           Adoption\n",
      "18           Transfer\n",
      "19           Adoption\n",
      "20           Adoption\n",
      "21           Transfer\n",
      "22           Transfer\n",
      "23           Adoption\n",
      "24           Transfer\n",
      "25           Transfer\n",
      "26           Transfer\n",
      "27           Adoption\n",
      "28           Adoption\n",
      "29           Adoption\n",
      "...               ...\n",
      "2644         Transfer\n",
      "2645         Adoption\n",
      "2646         Adoption\n",
      "2647         Adoption\n",
      "2648         Transfer\n",
      "2649         Adoption\n",
      "2650         Adoption\n",
      "2651         Adoption\n",
      "2652         Adoption\n",
      "2653         Adoption\n",
      "2654         Adoption\n",
      "2655         Adoption\n",
      "2656  Return_to_owner\n",
      "2657         Transfer\n",
      "2658         Transfer\n",
      "2659  Return_to_owner\n",
      "2660         Adoption\n",
      "2661         Adoption\n",
      "2662         Transfer\n",
      "2663         Transfer\n",
      "2664         Adoption\n",
      "2665         Transfer\n",
      "2666         Adoption\n",
      "2667         Adoption\n",
      "2668         Transfer\n",
      "2669         Adoption\n",
      "2670         Transfer\n",
      "2671  Return_to_owner\n",
      "2672  Return_to_owner\n",
      "2673         Transfer\n",
      "\n",
      "[2674 rows x 1 columns]\n"
     ]
    }
   ],
   "source": [
    "print y_pred"
   ]
  },
  {
   "cell_type": "code",
   "execution_count": 266,
   "metadata": {
    "collapsed": false
   },
   "outputs": [
    {
     "name": "stdout",
     "output_type": "stream",
     "text": [
      "                 test\n",
      "0          Euthanasia\n",
      "1     Return_to_owner\n",
      "2            Adoption\n",
      "3            Transfer\n",
      "4            Transfer\n",
      "5            Transfer\n",
      "6            Adoption\n",
      "7            Adoption\n",
      "8            Transfer\n",
      "9            Transfer\n",
      "10           Adoption\n",
      "11           Adoption\n",
      "12           Transfer\n",
      "13           Adoption\n",
      "14    Return_to_owner\n",
      "15           Adoption\n",
      "16           Adoption\n",
      "17           Adoption\n",
      "18           Transfer\n",
      "19           Adoption\n",
      "20           Transfer\n",
      "21           Transfer\n",
      "22         Euthanasia\n",
      "23           Adoption\n",
      "24           Transfer\n",
      "25    Return_to_owner\n",
      "26           Transfer\n",
      "27           Adoption\n",
      "28    Return_to_owner\n",
      "29    Return_to_owner\n",
      "...               ...\n",
      "2644         Transfer\n",
      "2645         Adoption\n",
      "2646         Adoption\n",
      "2647         Adoption\n",
      "2648         Transfer\n",
      "2649         Adoption\n",
      "2650         Adoption\n",
      "2651         Adoption\n",
      "2652         Adoption\n",
      "2653         Adoption\n",
      "2654         Transfer\n",
      "2655         Transfer\n",
      "2656  Return_to_owner\n",
      "2657         Transfer\n",
      "2658         Transfer\n",
      "2659  Return_to_owner\n",
      "2660         Adoption\n",
      "2661  Return_to_owner\n",
      "2662       Euthanasia\n",
      "2663         Transfer\n",
      "2664         Adoption\n",
      "2665       Euthanasia\n",
      "2666       Euthanasia\n",
      "2667         Adoption\n",
      "2668       Euthanasia\n",
      "2669         Adoption\n",
      "2670         Transfer\n",
      "2671  Return_to_owner\n",
      "2672  Return_to_owner\n",
      "2673         Transfer\n",
      "\n",
      "[2674 rows x 1 columns]\n"
     ]
    }
   ],
   "source": [
    "print y_test"
   ]
  },
  {
   "cell_type": "code",
   "execution_count": 267,
   "metadata": {
    "collapsed": true
   },
   "outputs": [],
   "source": [
    "import ggplot as gg"
   ]
  },
  {
   "cell_type": "code",
   "execution_count": 275,
   "metadata": {
    "collapsed": false
   },
   "outputs": [
    {
     "data": {
      "image/png": "[encoded data removed]",
      "text/plain": [
       "<matplotlib.figure.Figure at 0x7f6d57d99090>"
      ]
     },
     "metadata": {},
     "output_type": "display_data"
    }
   ],
   "source": [
    "# visualize\n",
    "colors = ['windows blue','pale red', 'dusty purple','faded green']\n",
    "sns.countplot(x='pred',hue='pred',data=y_pred,palette=sns.xkcd_palette(colors))\n",
    "plt.savefig('pred.png')"
   ]
  },
  {
   "cell_type": "code",
   "execution_count": 273,
   "metadata": {
    "collapsed": false,
    "scrolled": true
   },
   "outputs": [
    {
     "data": {
      "image/png": "[encoded data removed]",
      "text/plain": [
       "<matplotlib.figure.Figure at 0x7f6d57cf2350>"
      ]
     },
     "metadata": {},
     "output_type": "display_data"
    }
   ],
   "source": [
    "# visualize\n",
    "colors = ['windows blue','faded green', 'pale red', 'dusty purple','amber']\n",
    "sns.countplot(x='test',hue='test',data=y_test,palette=sns.xkcd_palette(colors))\n",
    "plt.savefig('test.png')"
   ]
  },
  {
   "cell_type": "code",
   "execution_count": null,
   "metadata": {
    "collapsed": true
   },
   "outputs": [],
   "source": []
  },
  {
   "cell_type": "code",
   "execution_count": null,
   "metadata": {
    "collapsed": true
   },
   "outputs": [],
   "source": []
  }
 ],
 "metadata": {
  "kernelspec": {
   "display_name": "Python 2",
   "language": "python",
   "name": "python2"
  },
  "language_info": {
   "codemirror_mode": {
    "name": "ipython",
    "version": 2
   },
   "file_extension": ".py",
   "mimetype": "text/x-python",
   "name": "python",
   "nbconvert_exporter": "python",
   "pygments_lexer": "ipython2",
   "version": "2.7.12"
  }
 },
 "nbformat": 4,
 "nbformat_minor": 0
}
